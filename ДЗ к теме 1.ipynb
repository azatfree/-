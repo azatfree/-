{
 "cells": [
  {
   "cell_type": "markdown",
   "id": "c2590c19-b976-4f5b-a736-e6be75d33eec",
   "metadata": {},
   "source": [
    "### Задание 1\n",
    "\n",
    "Напишите код на Python в среде Jupyter Notebook для решения следующей задачи.\n",
    "\n",
    "Дана переменная, в которой хранится четырёхзначное число (год). Необходимо написать программу, которая выведет, является этот год високосным или обычным."
   ]
  },
  {
   "cell_type": "code",
   "execution_count": null,
   "id": "95732b6a-82a8-4244-b8b1-2d5a2cb7156a",
   "metadata": {},
   "outputs": [],
   "source": []
  },
  {
   "cell_type": "code",
   "execution_count": null,
   "id": "a60ce3a4-c87e-4686-8984-68a2863acd4c",
   "metadata": {},
   "outputs": [],
   "source": []
  },
  {
   "cell_type": "code",
   "execution_count": null,
   "id": "7c717650-8a9f-4a93-8439-2cf313373c9c",
   "metadata": {},
   "outputs": [],
   "source": []
  },
  {
   "cell_type": "code",
   "execution_count": null,
   "id": "a45f4947-3f1e-4c79-8dcf-8a23d9df50b0",
   "metadata": {},
   "outputs": [],
   "source": []
  }
 ],
 "metadata": {
  "kernelspec": {
   "display_name": "Python [conda env:base] *",
   "language": "python",
   "name": "conda-base-py"
  },
  "language_info": {
   "codemirror_mode": {
    "name": "ipython",
    "version": 3
   },
   "file_extension": ".py",
   "mimetype": "text/x-python",
   "name": "python",
   "nbconvert_exporter": "python",
   "pygments_lexer": "ipython3",
   "version": "3.12.7"
  }
 },
 "nbformat": 4,
 "nbformat_minor": 5
}
